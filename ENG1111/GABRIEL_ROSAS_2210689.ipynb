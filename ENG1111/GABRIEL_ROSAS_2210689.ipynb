{
  "nbformat": 4,
  "nbformat_minor": 0,
  "metadata": {
    "colab": {
      "provenance": []
    },
    "kernelspec": {
      "name": "python3",
      "display_name": "Python 3"
    },
    "language_info": {
      "name": "python"
    }
  },
  "cells": [
    {
      "cell_type": "code",
      "source": [
        "\"\"\"\n",
        "GABRIEL LOBO DE SANT'ANNA ROSAS\n",
        "MATRICULA: 2210689\n",
        "TURMA: 33B\n",
        "\"\"\""
      ],
      "metadata": {
        "id": "8ghfoFgI5bd_"
      },
      "execution_count": null,
      "outputs": []
    },
    {
      "cell_type": "code",
      "source": [
        "import pandas as pd\n",
        "import numpy as np\n",
        "from google.colab import drive\n",
        "from random import random \n",
        "import math"
      ],
      "metadata": {
        "id": "C23d9xut2jBD"
      },
      "execution_count": 2,
      "outputs": []
    },
    {
      "cell_type": "markdown",
      "source": [
        "1. Salve a base de dados escolhida no seu drive e importe para um notebook do Colab, criando um Dataframe"
      ],
      "metadata": {
        "id": "2edzwX3I08Fq"
      }
    },
    {
      "cell_type": "code",
      "execution_count": 3,
      "metadata": {
        "colab": {
          "base_uri": "https://localhost:8080/"
        },
        "id": "ifUq8pyN05vn",
        "outputId": "a6881aa2-acff-45d8-b446-809fcb1e88ff"
      },
      "outputs": [
        {
          "output_type": "stream",
          "name": "stdout",
          "text": [
            "Mounted at /drive\n"
          ]
        }
      ],
      "source": [
        "drive.mount(\"/drive\")\n",
        "dataframe = pd.read_csv(\"/drive/MyDrive/pratica1 - classificacao/analise_credito/class_analise_credito.csv\")\n"
      ]
    },
    {
      "cell_type": "markdown",
      "source": [
        "2. Inspecione as colunas do conjunto de dados (Nome das colunas e tipo de dados)\n"
      ],
      "metadata": {
        "id": "GBF1vp9x1HX_"
      }
    },
    {
      "cell_type": "code",
      "source": [
        "dataframe.info()"
      ],
      "metadata": {
        "colab": {
          "base_uri": "https://localhost:8080/"
        },
        "id": "FNbH702T5Gw3",
        "outputId": "da3d9e75-f259-4cee-e9c0-b2bf82048fca"
      },
      "execution_count": 4,
      "outputs": [
        {
          "output_type": "stream",
          "name": "stdout",
          "text": [
            "<class 'pandas.core.frame.DataFrame'>\n",
            "RangeIndex: 1500 entries, 0 to 1499\n",
            "Data columns (total 12 columns):\n",
            " #   Column   Non-Null Count  Dtype\n",
            "---  ------   --------------  -----\n",
            " 0   ESTC     1500 non-null   int64\n",
            " 1   NDEP     1500 non-null   int64\n",
            " 2   RENDA    1500 non-null   int64\n",
            " 3   TIPOR    1500 non-null   int64\n",
            " 4   VBEM     1500 non-null   int64\n",
            " 5   NPARC    1500 non-null   int64\n",
            " 6   VPARC    1500 non-null   int64\n",
            " 7   TEL      1500 non-null   int64\n",
            " 8   IDADE    1500 non-null   int64\n",
            " 9   RESMS    1500 non-null   int64\n",
            " 10  ENTRADA  1500 non-null   int64\n",
            " 11  target   1500 non-null   int64\n",
            "dtypes: int64(12)\n",
            "memory usage: 140.8 KB\n"
          ]
        }
      ]
    },
    {
      "cell_type": "markdown",
      "source": [
        "3. Escolha uma coluna com valores numéricos e apague todas as linhas que possuam valor nulo\n"
      ],
      "metadata": {
        "id": "VYIvOB041Haa"
      }
    },
    {
      "cell_type": "code",
      "source": [
        "dataframe[\"RENDA\"].dropna(axis=0, inplace=True)\n",
        "dataframe.info()"
      ],
      "metadata": {
        "id": "QBUnbxQp5Nw8",
        "colab": {
          "base_uri": "https://localhost:8080/"
        },
        "outputId": "fa4dcc36-e88c-4f32-be13-f6527c1c44ca"
      },
      "execution_count": 5,
      "outputs": [
        {
          "output_type": "stream",
          "name": "stdout",
          "text": [
            "<class 'pandas.core.frame.DataFrame'>\n",
            "RangeIndex: 1500 entries, 0 to 1499\n",
            "Data columns (total 12 columns):\n",
            " #   Column   Non-Null Count  Dtype\n",
            "---  ------   --------------  -----\n",
            " 0   ESTC     1500 non-null   int64\n",
            " 1   NDEP     1500 non-null   int64\n",
            " 2   RENDA    1500 non-null   int64\n",
            " 3   TIPOR    1500 non-null   int64\n",
            " 4   VBEM     1500 non-null   int64\n",
            " 5   NPARC    1500 non-null   int64\n",
            " 6   VPARC    1500 non-null   int64\n",
            " 7   TEL      1500 non-null   int64\n",
            " 8   IDADE    1500 non-null   int64\n",
            " 9   RESMS    1500 non-null   int64\n",
            " 10  ENTRADA  1500 non-null   int64\n",
            " 11  target   1500 non-null   int64\n",
            "dtypes: int64(12)\n",
            "memory usage: 140.8 KB\n"
          ]
        }
      ]
    },
    {
      "cell_type": "markdown",
      "source": [
        "4. Calcule a média desta mesma coluna\n"
      ],
      "metadata": {
        "id": "Te5yqz-n1Hcu"
      }
    },
    {
      "cell_type": "code",
      "source": [
        "media = dataframe[\"RENDA\"].mean()\n",
        "print(media)"
      ],
      "metadata": {
        "colab": {
          "base_uri": "https://localhost:8080/"
        },
        "id": "uY8bDx8ivnt_",
        "outputId": "ca74c6be-f7db-4f09-b558-7aaebf2b4bcf"
      },
      "execution_count": 6,
      "outputs": [
        {
          "output_type": "stream",
          "name": "stdout",
          "text": [
            "984.512\n"
          ]
        }
      ]
    },
    {
      "cell_type": "markdown",
      "source": [
        "5. Escolha um critério para eliminar as linhas que possuam valores muito distantes da média e crie um novo Dataframe.\n"
      ],
      "metadata": {
        "id": "gNDAiCKz1HfD"
      }
    },
    {
      "cell_type": "code",
      "source": [
        "for i, elem in enumerate(dataframe[\"RENDA\"]):\n",
        "  if  abs(elem - media) > 50.00:\n",
        "     dataframe.drop([i],inplace=True)\n",
        "dataframe.info()"
      ],
      "metadata": {
        "id": "i_cOEBj65aR1",
        "colab": {
          "base_uri": "https://localhost:8080/"
        },
        "outputId": "461179e5-61af-45ba-aa96-343370c01f95"
      },
      "execution_count": 7,
      "outputs": [
        {
          "output_type": "stream",
          "name": "stdout",
          "text": [
            "<class 'pandas.core.frame.DataFrame'>\n",
            "Int64Index: 74 entries, 4 to 1475\n",
            "Data columns (total 12 columns):\n",
            " #   Column   Non-Null Count  Dtype\n",
            "---  ------   --------------  -----\n",
            " 0   ESTC     74 non-null     int64\n",
            " 1   NDEP     74 non-null     int64\n",
            " 2   RENDA    74 non-null     int64\n",
            " 3   TIPOR    74 non-null     int64\n",
            " 4   VBEM     74 non-null     int64\n",
            " 5   NPARC    74 non-null     int64\n",
            " 6   VPARC    74 non-null     int64\n",
            " 7   TEL      74 non-null     int64\n",
            " 8   IDADE    74 non-null     int64\n",
            " 9   RESMS    74 non-null     int64\n",
            " 10  ENTRADA  74 non-null     int64\n",
            " 11  target   74 non-null     int64\n",
            "dtypes: int64(12)\n",
            "memory usage: 7.5 KB\n"
          ]
        }
      ]
    },
    {
      "cell_type": "markdown",
      "source": [
        "6. Crie um novo Dataframe que contenha apenas 5 colunas do conjunto anterior.\n"
      ],
      "metadata": {
        "id": "9sYuUSXd1Hhq"
      }
    },
    {
      "cell_type": "code",
      "source": [
        "dataframeNovo = dataframe.iloc[:,:5]\n",
        "dataframeNovo.info()"
      ],
      "metadata": {
        "colab": {
          "base_uri": "https://localhost:8080/"
        },
        "id": "djhmQ6bo1OQT",
        "outputId": "c58bb353-2a5c-46dc-f587-1a7622df817d"
      },
      "execution_count": 8,
      "outputs": [
        {
          "output_type": "stream",
          "name": "stdout",
          "text": [
            "<class 'pandas.core.frame.DataFrame'>\n",
            "Int64Index: 74 entries, 4 to 1475\n",
            "Data columns (total 5 columns):\n",
            " #   Column  Non-Null Count  Dtype\n",
            "---  ------  --------------  -----\n",
            " 0   ESTC    74 non-null     int64\n",
            " 1   NDEP    74 non-null     int64\n",
            " 2   RENDA   74 non-null     int64\n",
            " 3   TIPOR   74 non-null     int64\n",
            " 4   VBEM    74 non-null     int64\n",
            "dtypes: int64(5)\n",
            "memory usage: 3.5 KB\n"
          ]
        }
      ]
    },
    {
      "cell_type": "markdown",
      "source": [
        "7. Escolha duas colunas numéricas e crie uma nova coluna que siga a regra: (Coluna A - Coluna B)*número aleatório (entre 0 e 1).\n"
      ],
      "metadata": {
        "id": "uKd8pttr1Hj9"
      }
    },
    {
      "cell_type": "code",
      "source": [
        "dataframeNovo.insert(1,\"nova_coluna1\",((dataframeNovo[\"RENDA\"]-dataframeNovo[\"TIPOR\"])*random()))"
      ],
      "metadata": {
        "id": "FSUpZHki7hOJ"
      },
      "execution_count": 9,
      "outputs": []
    },
    {
      "cell_type": "markdown",
      "source": [
        "8. Embaralhe aleatoriamente o dataframe (índices e valores).\n"
      ],
      "metadata": {
        "id": "if7pPddP1HmV"
      }
    },
    {
      "cell_type": "code",
      "source": [
        "dataframeNovo.reindex(np.random.permutation(dataframeNovo.index))"
      ],
      "metadata": {
        "id": "SY8MjWxX8ak_",
        "colab": {
          "base_uri": "https://localhost:8080/",
          "height": 424
        },
        "outputId": "4a8daf7b-3fc5-49bf-bc4f-db1787e3f8b0"
      },
      "execution_count": 10,
      "outputs": [
        {
          "output_type": "execute_result",
          "data": {
            "text/plain": [
              "      ESTC  nova_coluna1  NDEP  RENDA  TIPOR  VBEM\n",
              "907      1    127.693708     0   1000      0   496\n",
              "298      1    127.566014     0   1000      1   466\n",
              "1345     1    121.181329     0    950      1  1290\n",
              "966      0    127.566014     0   1000      1   348\n",
              "371      0    125.012140     0    980      1   661\n",
              "...    ...           ...   ...    ...    ...   ...\n",
              "1310     0    121.309023     0    950      0   737\n",
              "1165     1    127.566014     0   1000      1   537\n",
              "1270     1    127.693708     0   1000      0   489\n",
              "1475     0    129.226033     0   1012      0   432\n",
              "1427     0    123.224428     0    965      0   499\n",
              "\n",
              "[74 rows x 6 columns]"
            ],
            "text/html": [
              "\n",
              "  <div id=\"df-b7ff68d8-d398-46db-8cda-606f0e733c3a\">\n",
              "    <div class=\"colab-df-container\">\n",
              "      <div>\n",
              "<style scoped>\n",
              "    .dataframe tbody tr th:only-of-type {\n",
              "        vertical-align: middle;\n",
              "    }\n",
              "\n",
              "    .dataframe tbody tr th {\n",
              "        vertical-align: top;\n",
              "    }\n",
              "\n",
              "    .dataframe thead th {\n",
              "        text-align: right;\n",
              "    }\n",
              "</style>\n",
              "<table border=\"1\" class=\"dataframe\">\n",
              "  <thead>\n",
              "    <tr style=\"text-align: right;\">\n",
              "      <th></th>\n",
              "      <th>ESTC</th>\n",
              "      <th>nova_coluna1</th>\n",
              "      <th>NDEP</th>\n",
              "      <th>RENDA</th>\n",
              "      <th>TIPOR</th>\n",
              "      <th>VBEM</th>\n",
              "    </tr>\n",
              "  </thead>\n",
              "  <tbody>\n",
              "    <tr>\n",
              "      <th>907</th>\n",
              "      <td>1</td>\n",
              "      <td>127.693708</td>\n",
              "      <td>0</td>\n",
              "      <td>1000</td>\n",
              "      <td>0</td>\n",
              "      <td>496</td>\n",
              "    </tr>\n",
              "    <tr>\n",
              "      <th>298</th>\n",
              "      <td>1</td>\n",
              "      <td>127.566014</td>\n",
              "      <td>0</td>\n",
              "      <td>1000</td>\n",
              "      <td>1</td>\n",
              "      <td>466</td>\n",
              "    </tr>\n",
              "    <tr>\n",
              "      <th>1345</th>\n",
              "      <td>1</td>\n",
              "      <td>121.181329</td>\n",
              "      <td>0</td>\n",
              "      <td>950</td>\n",
              "      <td>1</td>\n",
              "      <td>1290</td>\n",
              "    </tr>\n",
              "    <tr>\n",
              "      <th>966</th>\n",
              "      <td>0</td>\n",
              "      <td>127.566014</td>\n",
              "      <td>0</td>\n",
              "      <td>1000</td>\n",
              "      <td>1</td>\n",
              "      <td>348</td>\n",
              "    </tr>\n",
              "    <tr>\n",
              "      <th>371</th>\n",
              "      <td>0</td>\n",
              "      <td>125.012140</td>\n",
              "      <td>0</td>\n",
              "      <td>980</td>\n",
              "      <td>1</td>\n",
              "      <td>661</td>\n",
              "    </tr>\n",
              "    <tr>\n",
              "      <th>...</th>\n",
              "      <td>...</td>\n",
              "      <td>...</td>\n",
              "      <td>...</td>\n",
              "      <td>...</td>\n",
              "      <td>...</td>\n",
              "      <td>...</td>\n",
              "    </tr>\n",
              "    <tr>\n",
              "      <th>1310</th>\n",
              "      <td>0</td>\n",
              "      <td>121.309023</td>\n",
              "      <td>0</td>\n",
              "      <td>950</td>\n",
              "      <td>0</td>\n",
              "      <td>737</td>\n",
              "    </tr>\n",
              "    <tr>\n",
              "      <th>1165</th>\n",
              "      <td>1</td>\n",
              "      <td>127.566014</td>\n",
              "      <td>0</td>\n",
              "      <td>1000</td>\n",
              "      <td>1</td>\n",
              "      <td>537</td>\n",
              "    </tr>\n",
              "    <tr>\n",
              "      <th>1270</th>\n",
              "      <td>1</td>\n",
              "      <td>127.693708</td>\n",
              "      <td>0</td>\n",
              "      <td>1000</td>\n",
              "      <td>0</td>\n",
              "      <td>489</td>\n",
              "    </tr>\n",
              "    <tr>\n",
              "      <th>1475</th>\n",
              "      <td>0</td>\n",
              "      <td>129.226033</td>\n",
              "      <td>0</td>\n",
              "      <td>1012</td>\n",
              "      <td>0</td>\n",
              "      <td>432</td>\n",
              "    </tr>\n",
              "    <tr>\n",
              "      <th>1427</th>\n",
              "      <td>0</td>\n",
              "      <td>123.224428</td>\n",
              "      <td>0</td>\n",
              "      <td>965</td>\n",
              "      <td>0</td>\n",
              "      <td>499</td>\n",
              "    </tr>\n",
              "  </tbody>\n",
              "</table>\n",
              "<p>74 rows × 6 columns</p>\n",
              "</div>\n",
              "      <button class=\"colab-df-convert\" onclick=\"convertToInteractive('df-b7ff68d8-d398-46db-8cda-606f0e733c3a')\"\n",
              "              title=\"Convert this dataframe to an interactive table.\"\n",
              "              style=\"display:none;\">\n",
              "        \n",
              "  <svg xmlns=\"http://www.w3.org/2000/svg\" height=\"24px\"viewBox=\"0 0 24 24\"\n",
              "       width=\"24px\">\n",
              "    <path d=\"M0 0h24v24H0V0z\" fill=\"none\"/>\n",
              "    <path d=\"M18.56 5.44l.94 2.06.94-2.06 2.06-.94-2.06-.94-.94-2.06-.94 2.06-2.06.94zm-11 1L8.5 8.5l.94-2.06 2.06-.94-2.06-.94L8.5 2.5l-.94 2.06-2.06.94zm10 10l.94 2.06.94-2.06 2.06-.94-2.06-.94-.94-2.06-.94 2.06-2.06.94z\"/><path d=\"M17.41 7.96l-1.37-1.37c-.4-.4-.92-.59-1.43-.59-.52 0-1.04.2-1.43.59L10.3 9.45l-7.72 7.72c-.78.78-.78 2.05 0 2.83L4 21.41c.39.39.9.59 1.41.59.51 0 1.02-.2 1.41-.59l7.78-7.78 2.81-2.81c.8-.78.8-2.07 0-2.86zM5.41 20L4 18.59l7.72-7.72 1.47 1.35L5.41 20z\"/>\n",
              "  </svg>\n",
              "      </button>\n",
              "      \n",
              "  <style>\n",
              "    .colab-df-container {\n",
              "      display:flex;\n",
              "      flex-wrap:wrap;\n",
              "      gap: 12px;\n",
              "    }\n",
              "\n",
              "    .colab-df-convert {\n",
              "      background-color: #E8F0FE;\n",
              "      border: none;\n",
              "      border-radius: 50%;\n",
              "      cursor: pointer;\n",
              "      display: none;\n",
              "      fill: #1967D2;\n",
              "      height: 32px;\n",
              "      padding: 0 0 0 0;\n",
              "      width: 32px;\n",
              "    }\n",
              "\n",
              "    .colab-df-convert:hover {\n",
              "      background-color: #E2EBFA;\n",
              "      box-shadow: 0px 1px 2px rgba(60, 64, 67, 0.3), 0px 1px 3px 1px rgba(60, 64, 67, 0.15);\n",
              "      fill: #174EA6;\n",
              "    }\n",
              "\n",
              "    [theme=dark] .colab-df-convert {\n",
              "      background-color: #3B4455;\n",
              "      fill: #D2E3FC;\n",
              "    }\n",
              "\n",
              "    [theme=dark] .colab-df-convert:hover {\n",
              "      background-color: #434B5C;\n",
              "      box-shadow: 0px 1px 3px 1px rgba(0, 0, 0, 0.15);\n",
              "      filter: drop-shadow(0px 1px 2px rgba(0, 0, 0, 0.3));\n",
              "      fill: #FFFFFF;\n",
              "    }\n",
              "  </style>\n",
              "\n",
              "      <script>\n",
              "        const buttonEl =\n",
              "          document.querySelector('#df-b7ff68d8-d398-46db-8cda-606f0e733c3a button.colab-df-convert');\n",
              "        buttonEl.style.display =\n",
              "          google.colab.kernel.accessAllowed ? 'block' : 'none';\n",
              "\n",
              "        async function convertToInteractive(key) {\n",
              "          const element = document.querySelector('#df-b7ff68d8-d398-46db-8cda-606f0e733c3a');\n",
              "          const dataTable =\n",
              "            await google.colab.kernel.invokeFunction('convertToInteractive',\n",
              "                                                     [key], {});\n",
              "          if (!dataTable) return;\n",
              "\n",
              "          const docLinkHtml = 'Like what you see? Visit the ' +\n",
              "            '<a target=\"_blank\" href=https://colab.research.google.com/notebooks/data_table.ipynb>data table notebook</a>'\n",
              "            + ' to learn more about interactive tables.';\n",
              "          element.innerHTML = '';\n",
              "          dataTable['output_type'] = 'display_data';\n",
              "          await google.colab.output.renderOutput(dataTable, element);\n",
              "          const docLink = document.createElement('div');\n",
              "          docLink.innerHTML = docLinkHtml;\n",
              "          element.appendChild(docLink);\n",
              "        }\n",
              "      </script>\n",
              "    </div>\n",
              "  </div>\n",
              "  "
            ]
          },
          "metadata": {},
          "execution_count": 10
        }
      ]
    },
    {
      "cell_type": "markdown",
      "source": [
        "9. Ordene o Dataframe seguindo um critério definido por você (Explique o critério)\n"
      ],
      "metadata": {
        "id": "cHU5_cAe1HpO"
      }
    },
    {
      "cell_type": "code",
      "source": [
        "dataframeNovo = dataframeNovo.sort_values(by=\"RENDA\",ascending=False) # ordena os valores comecando com o maior valor e terminando com o menor de acordo com a coluna RENDA.\n",
        "display(dataframeNovo)"
      ],
      "metadata": {
        "id": "O48R53qo7ELI",
        "colab": {
          "base_uri": "https://localhost:8080/",
          "height": 424
        },
        "outputId": "fda11add-7185-431a-d55c-c0304bf7e76a"
      },
      "execution_count": 11,
      "outputs": [
        {
          "output_type": "display_data",
          "data": {
            "text/plain": [
              "      ESTC  nova_coluna1  NDEP  RENDA  TIPOR  VBEM\n",
              "1082     1    131.907601     0   1034      1   429\n",
              "666      1    131.269132     0   1028      0   577\n",
              "1152     0    131.269132     0   1028      0   690\n",
              "506      3    130.375276     0   1021      0  1386\n",
              "296      0    129.736808     0   1016      0   541\n",
              "...    ...           ...   ...    ...    ...   ...\n",
              "1345     1    121.181329     0    950      1  1290\n",
              "1310     0    121.309023     0    950      0   737\n",
              "1415     0    120.798248     0    946      0   529\n",
              "1433     1    120.670554     0    945      0   552\n",
              "1410     0    119.776698     0    938      0   552\n",
              "\n",
              "[74 rows x 6 columns]"
            ],
            "text/html": [
              "\n",
              "  <div id=\"df-0b161278-0585-4311-86f2-188ab7f87c8f\">\n",
              "    <div class=\"colab-df-container\">\n",
              "      <div>\n",
              "<style scoped>\n",
              "    .dataframe tbody tr th:only-of-type {\n",
              "        vertical-align: middle;\n",
              "    }\n",
              "\n",
              "    .dataframe tbody tr th {\n",
              "        vertical-align: top;\n",
              "    }\n",
              "\n",
              "    .dataframe thead th {\n",
              "        text-align: right;\n",
              "    }\n",
              "</style>\n",
              "<table border=\"1\" class=\"dataframe\">\n",
              "  <thead>\n",
              "    <tr style=\"text-align: right;\">\n",
              "      <th></th>\n",
              "      <th>ESTC</th>\n",
              "      <th>nova_coluna1</th>\n",
              "      <th>NDEP</th>\n",
              "      <th>RENDA</th>\n",
              "      <th>TIPOR</th>\n",
              "      <th>VBEM</th>\n",
              "    </tr>\n",
              "  </thead>\n",
              "  <tbody>\n",
              "    <tr>\n",
              "      <th>1082</th>\n",
              "      <td>1</td>\n",
              "      <td>131.907601</td>\n",
              "      <td>0</td>\n",
              "      <td>1034</td>\n",
              "      <td>1</td>\n",
              "      <td>429</td>\n",
              "    </tr>\n",
              "    <tr>\n",
              "      <th>666</th>\n",
              "      <td>1</td>\n",
              "      <td>131.269132</td>\n",
              "      <td>0</td>\n",
              "      <td>1028</td>\n",
              "      <td>0</td>\n",
              "      <td>577</td>\n",
              "    </tr>\n",
              "    <tr>\n",
              "      <th>1152</th>\n",
              "      <td>0</td>\n",
              "      <td>131.269132</td>\n",
              "      <td>0</td>\n",
              "      <td>1028</td>\n",
              "      <td>0</td>\n",
              "      <td>690</td>\n",
              "    </tr>\n",
              "    <tr>\n",
              "      <th>506</th>\n",
              "      <td>3</td>\n",
              "      <td>130.375276</td>\n",
              "      <td>0</td>\n",
              "      <td>1021</td>\n",
              "      <td>0</td>\n",
              "      <td>1386</td>\n",
              "    </tr>\n",
              "    <tr>\n",
              "      <th>296</th>\n",
              "      <td>0</td>\n",
              "      <td>129.736808</td>\n",
              "      <td>0</td>\n",
              "      <td>1016</td>\n",
              "      <td>0</td>\n",
              "      <td>541</td>\n",
              "    </tr>\n",
              "    <tr>\n",
              "      <th>...</th>\n",
              "      <td>...</td>\n",
              "      <td>...</td>\n",
              "      <td>...</td>\n",
              "      <td>...</td>\n",
              "      <td>...</td>\n",
              "      <td>...</td>\n",
              "    </tr>\n",
              "    <tr>\n",
              "      <th>1345</th>\n",
              "      <td>1</td>\n",
              "      <td>121.181329</td>\n",
              "      <td>0</td>\n",
              "      <td>950</td>\n",
              "      <td>1</td>\n",
              "      <td>1290</td>\n",
              "    </tr>\n",
              "    <tr>\n",
              "      <th>1310</th>\n",
              "      <td>0</td>\n",
              "      <td>121.309023</td>\n",
              "      <td>0</td>\n",
              "      <td>950</td>\n",
              "      <td>0</td>\n",
              "      <td>737</td>\n",
              "    </tr>\n",
              "    <tr>\n",
              "      <th>1415</th>\n",
              "      <td>0</td>\n",
              "      <td>120.798248</td>\n",
              "      <td>0</td>\n",
              "      <td>946</td>\n",
              "      <td>0</td>\n",
              "      <td>529</td>\n",
              "    </tr>\n",
              "    <tr>\n",
              "      <th>1433</th>\n",
              "      <td>1</td>\n",
              "      <td>120.670554</td>\n",
              "      <td>0</td>\n",
              "      <td>945</td>\n",
              "      <td>0</td>\n",
              "      <td>552</td>\n",
              "    </tr>\n",
              "    <tr>\n",
              "      <th>1410</th>\n",
              "      <td>0</td>\n",
              "      <td>119.776698</td>\n",
              "      <td>0</td>\n",
              "      <td>938</td>\n",
              "      <td>0</td>\n",
              "      <td>552</td>\n",
              "    </tr>\n",
              "  </tbody>\n",
              "</table>\n",
              "<p>74 rows × 6 columns</p>\n",
              "</div>\n",
              "      <button class=\"colab-df-convert\" onclick=\"convertToInteractive('df-0b161278-0585-4311-86f2-188ab7f87c8f')\"\n",
              "              title=\"Convert this dataframe to an interactive table.\"\n",
              "              style=\"display:none;\">\n",
              "        \n",
              "  <svg xmlns=\"http://www.w3.org/2000/svg\" height=\"24px\"viewBox=\"0 0 24 24\"\n",
              "       width=\"24px\">\n",
              "    <path d=\"M0 0h24v24H0V0z\" fill=\"none\"/>\n",
              "    <path d=\"M18.56 5.44l.94 2.06.94-2.06 2.06-.94-2.06-.94-.94-2.06-.94 2.06-2.06.94zm-11 1L8.5 8.5l.94-2.06 2.06-.94-2.06-.94L8.5 2.5l-.94 2.06-2.06.94zm10 10l.94 2.06.94-2.06 2.06-.94-2.06-.94-.94-2.06-.94 2.06-2.06.94z\"/><path d=\"M17.41 7.96l-1.37-1.37c-.4-.4-.92-.59-1.43-.59-.52 0-1.04.2-1.43.59L10.3 9.45l-7.72 7.72c-.78.78-.78 2.05 0 2.83L4 21.41c.39.39.9.59 1.41.59.51 0 1.02-.2 1.41-.59l7.78-7.78 2.81-2.81c.8-.78.8-2.07 0-2.86zM5.41 20L4 18.59l7.72-7.72 1.47 1.35L5.41 20z\"/>\n",
              "  </svg>\n",
              "      </button>\n",
              "      \n",
              "  <style>\n",
              "    .colab-df-container {\n",
              "      display:flex;\n",
              "      flex-wrap:wrap;\n",
              "      gap: 12px;\n",
              "    }\n",
              "\n",
              "    .colab-df-convert {\n",
              "      background-color: #E8F0FE;\n",
              "      border: none;\n",
              "      border-radius: 50%;\n",
              "      cursor: pointer;\n",
              "      display: none;\n",
              "      fill: #1967D2;\n",
              "      height: 32px;\n",
              "      padding: 0 0 0 0;\n",
              "      width: 32px;\n",
              "    }\n",
              "\n",
              "    .colab-df-convert:hover {\n",
              "      background-color: #E2EBFA;\n",
              "      box-shadow: 0px 1px 2px rgba(60, 64, 67, 0.3), 0px 1px 3px 1px rgba(60, 64, 67, 0.15);\n",
              "      fill: #174EA6;\n",
              "    }\n",
              "\n",
              "    [theme=dark] .colab-df-convert {\n",
              "      background-color: #3B4455;\n",
              "      fill: #D2E3FC;\n",
              "    }\n",
              "\n",
              "    [theme=dark] .colab-df-convert:hover {\n",
              "      background-color: #434B5C;\n",
              "      box-shadow: 0px 1px 3px 1px rgba(0, 0, 0, 0.15);\n",
              "      filter: drop-shadow(0px 1px 2px rgba(0, 0, 0, 0.3));\n",
              "      fill: #FFFFFF;\n",
              "    }\n",
              "  </style>\n",
              "\n",
              "      <script>\n",
              "        const buttonEl =\n",
              "          document.querySelector('#df-0b161278-0585-4311-86f2-188ab7f87c8f button.colab-df-convert');\n",
              "        buttonEl.style.display =\n",
              "          google.colab.kernel.accessAllowed ? 'block' : 'none';\n",
              "\n",
              "        async function convertToInteractive(key) {\n",
              "          const element = document.querySelector('#df-0b161278-0585-4311-86f2-188ab7f87c8f');\n",
              "          const dataTable =\n",
              "            await google.colab.kernel.invokeFunction('convertToInteractive',\n",
              "                                                     [key], {});\n",
              "          if (!dataTable) return;\n",
              "\n",
              "          const docLinkHtml = 'Like what you see? Visit the ' +\n",
              "            '<a target=\"_blank\" href=https://colab.research.google.com/notebooks/data_table.ipynb>data table notebook</a>'\n",
              "            + ' to learn more about interactive tables.';\n",
              "          element.innerHTML = '';\n",
              "          dataTable['output_type'] = 'display_data';\n",
              "          await google.colab.output.renderOutput(dataTable, element);\n",
              "          const docLink = document.createElement('div');\n",
              "          docLink.innerHTML = docLinkHtml;\n",
              "          element.appendChild(docLink);\n",
              "        }\n",
              "      </script>\n",
              "    </div>\n",
              "  </div>\n",
              "  "
            ]
          },
          "metadata": {}
        }
      ]
    },
    {
      "cell_type": "markdown",
      "source": [
        "10. Escolha uma coluna numérica e um coluna com strings e utilize a função Groupby para mostrar os totais da  coluna.\n"
      ],
      "metadata": {
        "id": "pYvcoReL-pru"
      }
    },
    {
      "cell_type": "code",
      "source": [
        "num_col = dataframeNovo.groupby(\"RENDA\")[[\"ESTC\"]].count()  # dataframe composto apenas de valores inteiros\n",
        "print(num_col)"
      ],
      "metadata": {
        "id": "mE7TX61B-4Zn",
        "colab": {
          "base_uri": "https://localhost:8080/"
        },
        "outputId": "f57e2ca9-d1b4-4b0b-e0d7-57fbf06c0cf2"
      },
      "execution_count": 12,
      "outputs": [
        {
          "output_type": "stream",
          "name": "stdout",
          "text": [
            "       ESTC\n",
            "RENDA      \n",
            "938       1\n",
            "945       1\n",
            "946       1\n",
            "950       2\n",
            "952       1\n",
            "953       1\n",
            "959       1\n",
            "960       2\n",
            "965       1\n",
            "966       1\n",
            "967       1\n",
            "971       1\n",
            "972       1\n",
            "980       2\n",
            "983       1\n",
            "987       1\n",
            "990       2\n",
            "992       1\n",
            "993       1\n",
            "995       1\n",
            "1000     38\n",
            "1001      1\n",
            "1004      2\n",
            "1009      1\n",
            "1012      1\n",
            "1013      1\n",
            "1015      1\n",
            "1016      1\n",
            "1021      1\n",
            "1028      2\n",
            "1034      1\n"
          ]
        }
      ]
    },
    {
      "cell_type": "markdown",
      "source": [
        "11. Utilize a função MAPS para fazer algum tipo de substituição no Dataframe (explique)\n"
      ],
      "metadata": {
        "id": "hAa-RMwq-p1l"
      }
    },
    {
      "cell_type": "code",
      "source": [
        "dataframeNovo[\"RENDA\"] = dataframeNovo[\"RENDA\"].map(lambda n: n//2) # coluna RENDA foi modificada de maneira a cada valor ser divido por 2"
      ],
      "metadata": {
        "id": "GcqynFbeQVNx"
      },
      "execution_count": 13,
      "outputs": []
    },
    {
      "cell_type": "markdown",
      "source": [
        "12. Exporte o último Dataframe para um arquivo CSV e salve no seu drive\n"
      ],
      "metadata": {
        "id": "UaOUorJk-qk1"
      }
    },
    {
      "cell_type": "code",
      "source": [
        "dataframeNovo.to_csv(\"/drive/MyDrive/dataframesNovo.csv\")"
      ],
      "metadata": {
        "id": "FAno69f9QV4W"
      },
      "execution_count": 14,
      "outputs": []
    },
    {
      "cell_type": "markdown",
      "source": [
        "13. Exporte o mesmo Dataframe para um arquivo JSON e salve no seu drive\n"
      ],
      "metadata": {
        "id": "_Mi3Nh07-quN"
      }
    },
    {
      "cell_type": "code",
      "source": [
        "json = dataframeNovo.to_json(orient='table')\n",
        "with  open('/drive/MyDrive/dataframesNovo.json', 'w') as file:\n",
        "  file.write(json)"
      ],
      "metadata": {
        "id": "2cMdBOPQQWWO"
      },
      "execution_count": 15,
      "outputs": []
    },
    }
  ]
}
